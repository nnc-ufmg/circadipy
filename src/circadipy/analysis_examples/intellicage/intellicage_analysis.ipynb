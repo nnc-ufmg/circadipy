{
 "cells": [
  {
   "cell_type": "code",
   "execution_count": 1,
   "metadata": {},
   "outputs": [
    {
     "name": "stderr",
     "output_type": "stream",
     "text": [
      "PyMICE library v. 1.2.1\n",
      "\n",
      "The library is available under GPL3 license; we ask that reference to our paper\n",
      "as well as to the library itself is provided in any published research making\n",
      "use of PyMICE. Please run:\n",
      "\n",
      ">>> print(pm.__REFERENCING__)\n",
      "\n",
      "for more information (given that the library is imported as `pm`).\n",
      "\n",
      "\n"
     ]
    }
   ],
   "source": [
    "## IMPORT LIBRARIES ----------------------------------------------------------------------------------------------------\n",
    "\n",
    "%matplotlib qt\n",
    "\n",
    "%reload_ext autoreload\n",
    "%autoreload 3\n",
    "\n",
    "import sys                                                                                                              # Import sys to add paths to libraries\n",
    "import re                                                                                                               # Import re to work with regular expressions\n",
    "import glob                                                                                                             # Import glob to read files\n",
    "import matplotlib.pyplot as plt                                                                                         # Import matplotlib.pyplot to plot figures\n",
    "import tkinter as tk                                                                                                    # Import TK to open folder dialogs to select folders\n",
    "from tkinter import filedialog                                                                                          # Import filedialog to open folder dialogs to select folders\n",
    "import numpy                                                                                                            # Import numpy to work with arrays and make calculations\n",
    "from shutil import rmtree\n",
    "import random                                                                                                           # Import random to make random choices\n",
    "from datetime import datetime, timedelta                                                                                # Import time to measure time \n",
    "import time                                                                                                             # Import time to measure time\n",
    "import os                                                                                                               # Import path to work with paths\n",
    "import pandas                                                                                                           # Import pandas to work with dataframes\n",
    "import warnings                                                                                                         # Import warnings to ignore warnings\n",
    "warnings.filterwarnings('ignore')                                                                                       # Ignore warnings\n",
    "\n",
    "## IMPORT CIRCADIPY ----------------------------------------------------------------------------------------------------\n",
    "\n",
    "parent_path = os.path.dirname(os.path.dirname(os.getcwd()))\n",
    "sys.path.append(parent_path)\n",
    "import chrono_reader as chr                                                                                             # Import chrono_reader to read data\n",
    "import chrono_plotter as chp                                                                                            # Import chrono_plotter to plot data\n",
    "import chrono_rhythm as chrt                                                                                             # Import chrono_rithm to make calculations\n",
    "import chrono_simulation as chs                                                                                         # Import chrono_simulation to simulate data\n"
   ]
  },
  {
   "cell_type": "code",
   "execution_count": 2,
   "metadata": {},
   "outputs": [
    {
     "name": "stdout",
     "output_type": "stream",
     "text": [
      "The folder already exists. The data will be overwritten.\n",
      "The data folder is: C:/Users/morei/Documents/GitHub/circadipy/src/analysis_examples/intellicage/data_after_unwrapping\n",
      "The result folder is: C:/Users/morei/Documents/GitHub/circadipy/src/analysis_examples/intellicage\\results_intellicage\n"
     ]
    }
   ],
   "source": [
    "## SET THE ENVIRONMENT -------------------------------------------------------------------------------------------------\n",
    "\n",
    "root = tk.Tk()                                                                                                          # Create the root window\n",
    "root.attributes('-topmost',True)                                                                                        # Keep the window on top of others\n",
    "root.iconify()                                                                                                          # Hide the root window\n",
    "\n",
    "data_folder = filedialog.askdirectory(title='Select the folder containing the data')                                    # Ask the user to select the folder containing the data\n",
    "root_folder = os.path.dirname(data_folder)                                                                              # Get the root folder\n",
    "result_folder = os.path.join(root_folder, 'results_intellicage')                                                        # Create the result folder\n",
    "\n",
    "if not os.path.exists(result_folder):                                                                                   # If the result folder does not exist\n",
    "    os.makedirs(result_folder)                                                                                          # Create it\n",
    "else:\n",
    "    print('The folder already exists. The data will be overwritten.')                                                   # Otherwise, warn the user that the data will be overwritten\n",
    "\n",
    "print('The data folder is: {}'.format(data_folder))                                                                     # Print the data folder\n",
    "print('The result folder is: {}'.format(result_folder))                                                                 # Print the result folder"
   ]
  },
  {
   "cell_type": "code",
   "execution_count": 3,
   "metadata": {},
   "outputs": [
    {
     "name": "stdout",
     "output_type": "stream",
     "text": [
      "['C:/Users/morei/Documents/GitHub/circadipy/src/analysis_examples/intellicage/data_after_unwrapping\\\\data_animal_17.txt', 'C:/Users/morei/Documents/GitHub/circadipy/src/analysis_examples/intellicage/data_after_unwrapping\\\\data_animal_19.txt']\n"
     ]
    }
   ],
   "source": [
    "individual_files = glob.glob(data_folder + \"/*.txt\")\n",
    "print(individual_files)"
   ]
  },
  {
   "cell_type": "code",
   "execution_count": 4,
   "metadata": {},
   "outputs": [
    {
     "name": "stdout",
     "output_type": "stream",
     "text": [
      "['2022-06-19', '2022-06-20', '2022-06-21', '2022-06-22', '2022-06-23', '2022-06-24', '2022-06-25', '2022-06-26', '2022-06-27', '2022-06-28', '2022-06-29', '2022-06-30', '2022-07-01', '2022-07-02']\n",
      "['2022-06-19', '2022-06-20', '2022-06-21', '2022-06-22', '2022-06-23', '2022-06-24', '2022-06-25', '2022-06-26', '2022-06-27', '2022-06-28', '2022-06-29', '2022-06-30', '2022-07-01', '2022-07-02']\n"
     ]
    }
   ],
   "source": [
    "zt_0_time = 20\n",
    "#labels_dict = {'cycle_types': ['LD', 'DD', 'DD', 'LD'], 'test_labels': ['1_control_dl', '2_control_dd', '3_hypo_dd', '4_hypo_dl'], 'cycle_days': [7, 29, 43, 13]}\n",
    "labels_dict = {'cycle_types': ['LD', 'DD', 'DD', 'DD', 'LD'], 'test_labels': ['1_control_dl', '2_control_dd', '3_induction_dd', '4_hypo_dd', '5_hypo_dl'], 'cycle_days': [13, 29, 23, 20, 12]}\n",
    "type = 'intellicage'\n",
    "\n",
    "animals = {}\n",
    "for file in individual_files:\n",
    "    expression = r\"\\\\data_(.*?)\\.txt\"\n",
    "    name = re.search(expression, file)\n",
    "    name = name.group(1)\n",
    "\n",
    "    animals[name] = {}\n",
    "    animals[name]['file'] = file\n",
    "\n",
    "    protocol = chr.read_protocol(name, file, zt_0_time = zt_0_time, labels_dict = labels_dict, type = type, consider_first_day = False)\n",
    "    protocol.resample('1H', method = 'sum')\n",
    "    protocol.apply_filter(window = 3, type = 'moving_average', order = 2, reverse = False)\n",
    "    protocol.normalize_data(type = 'minmax', per_day = True)\n",
    "    protocol.delete_first_days(7)\n",
    "    protocol.delete_last_days(2)\n",
    "    protocol.delete_period(5,18, '2_control_dd')\n",
    "\n",
    "    animals[name]['protocol'] = protocol"
   ]
  },
  {
   "cell_type": "code",
   "execution_count": 6,
   "metadata": {},
   "outputs": [
    {
     "data": {
      "text/html": [
       "<div>\n",
       "<style scoped>\n",
       "    .dataframe tbody tr th:only-of-type {\n",
       "        vertical-align: middle;\n",
       "    }\n",
       "\n",
       "    .dataframe tbody tr th {\n",
       "        vertical-align: top;\n",
       "    }\n",
       "\n",
       "    .dataframe thead th {\n",
       "        text-align: right;\n",
       "    }\n",
       "</style>\n",
       "<table border=\"1\" class=\"dataframe\">\n",
       "  <thead>\n",
       "    <tr style=\"text-align: right;\">\n",
       "      <th></th>\n",
       "      <th>values</th>\n",
       "      <th>is_night</th>\n",
       "      <th>cycle_types</th>\n",
       "      <th>test_labels</th>\n",
       "      <th>real_date</th>\n",
       "      <th>day</th>\n",
       "    </tr>\n",
       "  </thead>\n",
       "  <tbody>\n",
       "    <tr>\n",
       "      <th>2022-06-10 00:00:00</th>\n",
       "      <td>0.64</td>\n",
       "      <td>False</td>\n",
       "      <td>LD</td>\n",
       "      <td>1_control_dl</td>\n",
       "      <td>2022-06-10 20:00:00</td>\n",
       "      <td>2022-06-10</td>\n",
       "    </tr>\n",
       "    <tr>\n",
       "      <th>2022-06-10 01:00:00</th>\n",
       "      <td>0.32</td>\n",
       "      <td>False</td>\n",
       "      <td>LD</td>\n",
       "      <td>1_control_dl</td>\n",
       "      <td>2022-06-10 21:00:00</td>\n",
       "      <td>2022-06-10</td>\n",
       "    </tr>\n",
       "    <tr>\n",
       "      <th>2022-06-10 02:00:00</th>\n",
       "      <td>0.12</td>\n",
       "      <td>False</td>\n",
       "      <td>LD</td>\n",
       "      <td>1_control_dl</td>\n",
       "      <td>2022-06-10 22:00:00</td>\n",
       "      <td>2022-06-10</td>\n",
       "    </tr>\n",
       "    <tr>\n",
       "      <th>2022-06-10 03:00:00</th>\n",
       "      <td>0.04</td>\n",
       "      <td>False</td>\n",
       "      <td>LD</td>\n",
       "      <td>1_control_dl</td>\n",
       "      <td>2022-06-10 23:00:00</td>\n",
       "      <td>2022-06-10</td>\n",
       "    </tr>\n",
       "    <tr>\n",
       "      <th>2022-06-10 04:00:00</th>\n",
       "      <td>0.00</td>\n",
       "      <td>False</td>\n",
       "      <td>LD</td>\n",
       "      <td>1_control_dl</td>\n",
       "      <td>2022-06-11 00:00:00</td>\n",
       "      <td>2022-06-10</td>\n",
       "    </tr>\n",
       "    <tr>\n",
       "      <th>...</th>\n",
       "      <td>...</td>\n",
       "      <td>...</td>\n",
       "      <td>...</td>\n",
       "      <td>...</td>\n",
       "      <td>...</td>\n",
       "      <td>...</td>\n",
       "    </tr>\n",
       "    <tr>\n",
       "      <th>2022-08-21 19:00:00</th>\n",
       "      <td>0.60</td>\n",
       "      <td>True</td>\n",
       "      <td>LD</td>\n",
       "      <td>5_hypo_dl</td>\n",
       "      <td>2022-09-05 15:00:00</td>\n",
       "      <td>2022-09-04</td>\n",
       "    </tr>\n",
       "    <tr>\n",
       "      <th>2022-08-21 20:00:00</th>\n",
       "      <td>0.40</td>\n",
       "      <td>True</td>\n",
       "      <td>LD</td>\n",
       "      <td>5_hypo_dl</td>\n",
       "      <td>2022-09-05 16:00:00</td>\n",
       "      <td>2022-09-04</td>\n",
       "    </tr>\n",
       "    <tr>\n",
       "      <th>2022-08-21 21:00:00</th>\n",
       "      <td>0.55</td>\n",
       "      <td>True</td>\n",
       "      <td>LD</td>\n",
       "      <td>5_hypo_dl</td>\n",
       "      <td>2022-09-05 17:00:00</td>\n",
       "      <td>2022-09-04</td>\n",
       "    </tr>\n",
       "    <tr>\n",
       "      <th>2022-08-21 22:00:00</th>\n",
       "      <td>0.90</td>\n",
       "      <td>True</td>\n",
       "      <td>LD</td>\n",
       "      <td>5_hypo_dl</td>\n",
       "      <td>2022-09-05 18:00:00</td>\n",
       "      <td>2022-09-04</td>\n",
       "    </tr>\n",
       "    <tr>\n",
       "      <th>2022-08-21 23:00:00</th>\n",
       "      <td>1.00</td>\n",
       "      <td>True</td>\n",
       "      <td>LD</td>\n",
       "      <td>5_hypo_dl</td>\n",
       "      <td>2022-09-05 19:00:00</td>\n",
       "      <td>2022-09-04</td>\n",
       "    </tr>\n",
       "  </tbody>\n",
       "</table>\n",
       "<p>1752 rows × 6 columns</p>\n",
       "</div>"
      ],
      "text/plain": [
       "                     values  is_night cycle_types   test_labels  \\\n",
       "2022-06-10 00:00:00    0.64     False          LD  1_control_dl   \n",
       "2022-06-10 01:00:00    0.32     False          LD  1_control_dl   \n",
       "2022-06-10 02:00:00    0.12     False          LD  1_control_dl   \n",
       "2022-06-10 03:00:00    0.04     False          LD  1_control_dl   \n",
       "2022-06-10 04:00:00    0.00     False          LD  1_control_dl   \n",
       "...                     ...       ...         ...           ...   \n",
       "2022-08-21 19:00:00    0.60      True          LD     5_hypo_dl   \n",
       "2022-08-21 20:00:00    0.40      True          LD     5_hypo_dl   \n",
       "2022-08-21 21:00:00    0.55      True          LD     5_hypo_dl   \n",
       "2022-08-21 22:00:00    0.90      True          LD     5_hypo_dl   \n",
       "2022-08-21 23:00:00    1.00      True          LD     5_hypo_dl   \n",
       "\n",
       "                              real_date         day  \n",
       "2022-06-10 00:00:00 2022-06-10 20:00:00  2022-06-10  \n",
       "2022-06-10 01:00:00 2022-06-10 21:00:00  2022-06-10  \n",
       "2022-06-10 02:00:00 2022-06-10 22:00:00  2022-06-10  \n",
       "2022-06-10 03:00:00 2022-06-10 23:00:00  2022-06-10  \n",
       "2022-06-10 04:00:00 2022-06-11 00:00:00  2022-06-10  \n",
       "...                                 ...         ...  \n",
       "2022-08-21 19:00:00 2022-09-05 15:00:00  2022-09-04  \n",
       "2022-08-21 20:00:00 2022-09-05 16:00:00  2022-09-04  \n",
       "2022-08-21 21:00:00 2022-09-05 17:00:00  2022-09-04  \n",
       "2022-08-21 22:00:00 2022-09-05 18:00:00  2022-09-04  \n",
       "2022-08-21 23:00:00 2022-09-05 19:00:00  2022-09-04  \n",
       "\n",
       "[1752 rows x 6 columns]"
      ]
     },
     "execution_count": 6,
     "metadata": {},
     "output_type": "execute_result"
    }
   ],
   "source": [
    "animals['animal_17']['protocol'].data"
   ]
  },
  {
   "cell_type": "code",
   "execution_count": 7,
   "metadata": {},
   "outputs": [
    {
     "name": "stdout",
     "output_type": "stream",
     "text": [
      "Folder animal_17 created!\n",
      "Folder animal_19 created!\n"
     ]
    }
   ],
   "source": [
    "reset = True\n",
    "\n",
    "def reset_folder(folder):\n",
    "    for root, dirs, files in os.walk(folder):\n",
    "        for f in files:\n",
    "            os.unlink(os.path.join(root, f))\n",
    "        for d in dirs:\n",
    "            rmtree(os.path.join(root, d))\n",
    "\n",
    "if result_folder.split(\"\\\\\")[-1] not in os.listdir(root_folder):\n",
    "    os.mkdir(result_folder)\n",
    "    print(\"Folder results created!\")\n",
    "\n",
    "for count, key in enumerate(list(animals.keys())):\n",
    "    animals[key]['save_folder'] = result_folder + '\\\\' + key\n",
    "    if key not in os.listdir(result_folder):\n",
    "        os.mkdir(result_folder + '\\\\' + key)\n",
    "        print(\"Folder \" + key + \" created!\")\n",
    "    elif key in os.listdir(result_folder) and reset == True:\n",
    "        reset_folder(result_folder + '\\\\' + key)\n",
    "        print(\"Folder \" + key + \" cleaned!\")\n",
    "    else:\n",
    "        print(\"Folder \" + key + \" already exists!\")"
   ]
  },
  {
   "cell_type": "code",
   "execution_count": 8,
   "metadata": {},
   "outputs": [],
   "source": [
    "format = 'svg'"
   ]
  },
  {
   "cell_type": "code",
   "execution_count": 9,
   "metadata": {},
   "outputs": [
    {
     "name": "stdout",
     "output_type": "stream",
     "text": [
      "Animal 17 actograms saved!\n",
      "Animal 19 actograms saved!\n"
     ]
    }
   ],
   "source": [
    "for animal in animals:\n",
    "    chp.actogram_bar(animals[animal]['protocol'], first_hour = 18, save_folder = animals[animal]['save_folder'], save_suffix = 'bar', adjust_figure = [2, 0.85, 0.85, 0.2, 0.15], format = format, x_label = 'TIME (HOUR)', ticks_fontsize=[11,11], )\n",
    "    chp.actogram_colormap(animals[animal]['protocol'], first_hour = 18, save_folder = animals[animal]['save_folder'], save_suffix = 'colormap', adjust_figure = [2, 0.85, 0.85, 0.2, 0.15], format = format, norm_color = None, x_label = 'TIME (HOUR)', ticks_fontsize=[11,11], unit_of_measurement='VISITS')\n",
    "    chp.data_periodogram(animals[animal]['protocol'], time_shape = 'continuous', method = 'periodogram', max_period = 48, unit_of_measurement = 'VISITS', save_folder = animals[animal]['save_folder'], save_suffix = 'periodogram', format = format, ticks_fontsize=[14,14], labels_fontsize=[14,16,16])\n",
    "    chp.data_periodogram(animals[animal]['protocol'], time_shape = 'continuous', method = 'welch', max_period = 48, unit_of_measurement = 'VISITS', save_folder = animals[animal]['save_folder'], save_suffix = 'welch', format = format, ticks_fontsize=[14,14], labels_fontsize=[14,16,16])\n",
    "\n",
    "    print(animal.replace('_', ' ').capitalize() + ' actograms saved!')"
   ]
  },
  {
   "cell_type": "code",
   "execution_count": 10,
   "metadata": {},
   "outputs": [
    {
     "name": "stdout",
     "output_type": "stream",
     "text": [
      "Animal 17 total activity per day saved! (0.62 seconds)\n",
      "Animal 19 total activity per day saved! (0.46 seconds)\n"
     ]
    }
   ],
   "source": [
    "for count, animal in enumerate(animals):\n",
    "    init = time.time()\n",
    "\n",
    "    save_folder = animals[animal]['save_folder']\n",
    "    chp.time_serie(animals[animal]['protocol'], labels=['TIME SERIES', 'TIME (DAYS)', 'VISITS'],\n",
    "                   color = 'midnightblue', save_folder = save_folder, save_suffix = '', format = format)\n",
    "    chp.time_serie_sum_per_day(animals[animal]['protocol'], labels=['TIME SERIES', 'TIME (DAYS)', 'VISITS'], \n",
    "                               color = 'midnightblue', save_folder = save_folder, save_suffix = '', \n",
    "                               format = format)\n",
    "\n",
    "    end = time.time() - init\n",
    "\n",
    "    print(animal.replace('_', ' ').capitalize() + ' total activity per day saved! (' + str(round(end, 2)) + ' seconds)')\n",
    "    "
   ]
  },
  {
   "cell_type": "code",
   "execution_count": 11,
   "metadata": {},
   "outputs": [
    {
     "name": "stdout",
     "output_type": "stream",
     "text": [
      "Cosinor fitted to animal 17 and results saved!\n",
      "Time elapsed: 72.97 seconds\n",
      "Cosinor fitted to animal 19 and results saved!\n",
      "Time elapsed: 62.12 seconds\n"
     ]
    }
   ],
   "source": [
    "dict = {'time_shape': 'continuous', \n",
    "        'step': 0.01, \n",
    "        'start_time': 22, \n",
    "        'end_time': 26, \n",
    "        'n_components': [1]}\n",
    "\n",
    "best_models = []\n",
    "\n",
    "for count, animal in enumerate(animals):\n",
    "    init = time.time()\n",
    "\n",
    "    save_folder = animals[animal]['save_folder']\n",
    "\n",
    "    best_models, best_models_file = chrt.fit_cosinor(animals[animal]['protocol'], dict = dict, save_folder = save_folder)\n",
    "    best_models_fixed, best_models_fixed_file = chrt.fit_cosinor_fixed_period(animals[animal]['protocol'], best_models, save_folder = save_folder)    \n",
    "    animals[animal]['best_models'] = best_models\n",
    "    animals[animal]['best_models_file'] = best_models_file\n",
    "    animals[animal]['best_models_fixed'] = best_models_fixed\n",
    "    animals[animal]['best_models_fixed_file'] = best_models_fixed_file     \n",
    "\n",
    "    end = time.time() - init\n",
    "\n",
    "    print(\"Cosinor fitted to \" + animal.replace('_', ' ') + \" and results saved!\")\n",
    "    print(\"Time elapsed: \" + \"{:.2f}\".format(end) + \" seconds\")"
   ]
  },
  {
   "cell_type": "code",
   "execution_count": 12,
   "metadata": {},
   "outputs": [
    {
     "name": "stdout",
     "output_type": "stream",
     "text": [
      "Cosinor overview animal 17 saved!\n",
      "Time elapsed: 3.29 seconds\n",
      "Cosinor overview animal 19 saved!\n",
      "Time elapsed: 3.15 seconds\n"
     ]
    }
   ],
   "source": [
    "for count, animal in enumerate(animals):\n",
    "    init = time.time()\n",
    "    \n",
    "    save_folder = animals[animal]['save_folder']\n",
    "\n",
    "    chp.model_overview_detailed(animals[animal]['protocol'], animals[animal]['best_models_fixed'], save_folder = save_folder, format = format, ticks_fontsize=[14,14], labels_fontsize=[18,16,16])\n",
    "    chp.model_overview(animals[animal]['protocol'], animals[animal]['best_models'], save_folder = save_folder, format = format, ticks_fontsize=[14,14], labels_fontsize=[18,16,16])\n",
    "    chp.model_over_signal(animals[animal]['protocol'], animals[animal]['best_models'], position = 'head', mv_avg_window = 1, save_folder = save_folder, format = format, ticks_fontsize=[14,14], labels_fontsize=[18,16,16])\n",
    "\n",
    "    end = time.time() - init\n",
    "\n",
    "    print(\"Cosinor overview \" + animal.replace('_', ' ') + \" saved!\")\n",
    "    print(\"Time elapsed: \" + \"{:.2f}\".format(end) + \" seconds\")"
   ]
  },
  {
   "cell_type": "code",
   "execution_count": 13,
   "metadata": {},
   "outputs": [
    {
     "name": "stdout",
     "output_type": "stream",
     "text": [
      "Cosinor fitted to animal 17 and results saved!\n",
      "Time elapsed: 63.78 seconds\n",
      "Cosinor fitted to animal 19 and results saved!\n",
      "Time elapsed: 60.41 seconds\n"
     ]
    }
   ],
   "source": [
    "dict = {'day_window': 3, \n",
    "        'step': 0.5, \n",
    "        'start_time': 22, \n",
    "        'end_time': 27, \n",
    "        'n_components': [1]}\n",
    "\n",
    "best_models = []\n",
    "\n",
    "for count, animal in enumerate(animals):\n",
    "    init = time.time()\n",
    "\n",
    "    save_folder = animals[animal]['save_folder']\n",
    "\n",
    "    best_models_per_day, best_models_fixed_file = chrt.fit_cosinor_per_day(animals[animal]['protocol'], dict = dict, plot = True, save_folder = save_folder)    \n",
    "    chp.model_per_day(animals[animal]['protocol'], best_models_per_day, dict['day_window'], save_folder = save_folder, save_suffix = '', format = format)\n",
    "    animals[animal]['best_models_per_day'] = best_models_per_day\n",
    "    animals[animal]['best_models_file_per_day'] = best_models_fixed_file\n",
    "\n",
    "    end = time.time() - init\n",
    "\n",
    "    print(\"Cosinor fitted to \" + animal.replace('_', ' ') + \" and results saved!\")\n",
    "    print(\"Time elapsed: \" + \"{:.2f}\".format(end) + \" seconds\")"
   ]
  }
 ],
 "metadata": {
  "kernelspec": {
   "display_name": "chrono_env",
   "language": "python",
   "name": "python3"
  },
  "language_info": {
   "codemirror_mode": {
    "name": "ipython",
    "version": 3
   },
   "file_extension": ".py",
   "mimetype": "text/x-python",
   "name": "python",
   "nbconvert_exporter": "python",
   "pygments_lexer": "ipython3",
   "version": "3.8.16"
  },
  "orig_nbformat": 4,
  "vscode": {
   "interpreter": {
    "hash": "e176b5127d25623ff09ed24f6cfca5d9c28acecca8e2c3b551cd10fb1482f99c"
   }
  }
 },
 "nbformat": 4,
 "nbformat_minor": 2
}
